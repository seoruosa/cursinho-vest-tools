{
 "cells": [
  {
   "cell_type": "code",
   "execution_count": 1,
   "metadata": {},
   "outputs": [],
   "source": [
    "import requests\n",
    "from bs4 import BeautifulSoup\n",
    "\n",
    "host = \"http://www2.comvest.unicamp.br/vestibulares-anteriores/1a-fase-2a-fase-comentadas/\"\n",
    "page = requests.get(host, timeout=5)\n",
    "\n",
    "soup = BeautifulSoup(page.content, 'html.parser') # 'lxml'\n",
    "\n",
    "# print(soup.prettify())\n",
    "\n",
    "# list(soup.children)\n",
    "# [type(item) for item in list(soup.children)]\n",
    "\n",
    "all_links = set()\n",
    "for link in soup.find_all():\n",
    "    link_string = link.get('href')\n",
    "    if(link_string != None):\n",
    "        all_links.add(link_string)\n",
    "\n",
    "#         print(link_string)\n"
   ]
  },
  {
   "cell_type": "code",
   "execution_count": 35,
   "metadata": {},
   "outputs": [],
   "source": [
    "# print(all_links)\n",
    "not_loc = set()\n",
    "for i in filter(lambda x: 'www2.comvest.unicamp.br' not in x, all_links):\n",
    "#     print(i)\n",
    "    not_loc.add(i)\n",
    "    "
   ]
  },
  {
   "cell_type": "code",
   "execution_count": 2,
   "metadata": {},
   "outputs": [],
   "source": [
    "# print(all_links)\n"
   ]
  },
  {
   "cell_type": "code",
   "execution_count": 4,
   "metadata": {},
   "outputs": [
    {
     "name": "stdout",
     "output_type": "stream",
     "text": [
      "ParseResult(scheme='http', netloc='www2.comvest.unicamp.br', path='/', params='', query='', fragment='')\n",
      "http://www2.comvest.unicamp.br\n",
      "/wp-content/themes/comvest/img\n",
      "favicon.ico.css\n",
      "False\n",
      "favicon.ico  --   .css\n"
     ]
    }
   ],
   "source": [
    "# print(not_loc)\n",
    "\n",
    "from urllib.parse import urlparse, urlunparse, ParseResult\n",
    "# for i in all_links:\n",
    "#     print(urlparse(i))\n",
    "\n",
    "# o = urlparse(host)\n",
    "o = urlparse(\"http://www2.comvest.unicamp.br/\")\n",
    "print(o)\n",
    "o_ = ParseResult(o.scheme, o.netloc,'','','','')\n",
    "print(urlunparse(o_))\n",
    "\n",
    "import os\n",
    "path, filename = os.path.split('/wp-content/themes/comvest/img/favicon.ico.css')\n",
    "print(path)\n",
    "print(filename)\n",
    "\n",
    "print(os.path.islink('/wp-content/themes/comvest/img/favicon.pdf'))\n",
    "filename_w_ext = os.path.basename(filename)\n",
    "name, ext = os.path.splitext(filename_w_ext)\n",
    "print(\"{}  --   {}\".format(name, ext))"
   ]
  },
  {
   "cell_type": "code",
   "execution_count": 86,
   "metadata": {},
   "outputs": [
    {
     "name": "stdout",
     "output_type": "stream",
     "text": [
      "http://www2.comvest.unicamp.br/vestibulares-anteriores/1a-fase-2a-fase-comentadas/\n",
      "http://www2.comvest.unicamp.br\n",
      "5.080306344012344\n",
      "bla\n",
      "True\n"
     ]
    }
   ],
   "source": [
    "# print(urlparse(host).path)\n",
    "\n",
    "from general import *\n",
    "print(host)\n",
    "print(extractLocationPath(host))\n",
    "from time import sleep\n",
    "from random import random\n",
    "\n",
    "a = 5 * (0.8+random())\n",
    "print(a)\n",
    "# sleep(a)\n",
    "print('bla')\n",
    "\n",
    "location = urlparse('http://www.lba.bla.com/path/some')\n",
    "result = urlparse('http://www.lba.bla.com/path/some/thing/new.thing?dfasdfk')\n",
    "print((result.netloc == '') | (location.netloc == result.netloc))"
   ]
  },
  {
   "cell_type": "code",
   "execution_count": 5,
   "metadata": {},
   "outputs": [
    {
     "name": "stdout",
     "output_type": "stream",
     "text": [
      "{'http://www2.comvest.unicamp.br/inclusao-paais/artigos-e-relatorios/', 'http://www2.comvest.unicamp.br/inclusao-paais/deliberacao/', 'https://www2.comvest.unicamp.br/publicacoes/page/243/'}\n"
     ]
    }
   ],
   "source": [
    "import pickle\n",
    "\n",
    "filename = 'results.pickle'\n",
    "with open(filename, 'rb') as f:\n",
    "    a = pickle.load(f)\n",
    "\n",
    "# a.keys()\n",
    "garbage_links = a['garbage_links']\n",
    "all_links = a['all_links']\n",
    "file_links = a['file_links']\n",
    "iterations = a['iterations']\n",
    "\n",
    "print(garbage_links)"
   ]
  },
  {
   "cell_type": "code",
   "execution_count": 17,
   "metadata": {},
   "outputs": [],
   "source": [
    "# i=0\n",
    "# for file in file_links:\n",
    "#     i += 1\n",
    "#     print(file)\n",
    "# # print(a.keys())\n",
    "\n",
    "# a = filter(lambda x: )"
   ]
  },
  {
   "cell_type": "code",
   "execution_count": 27,
   "metadata": {},
   "outputs": [
    {
     "name": "stdout",
     "output_type": "stream",
     "text": [
      "{'.1411517', '.920576', '.rar', '.1564203', '.htmlf', '.1524776', \".br',%20'env_2981',%20''))\", '.css', '.', '.BR', '.br', '.php', '.asp', '.back()', '.shtm', '.372212', '.705711', '.br,', '.669820', '.445971', '.shtml', '.xml', '.png', '.1484578', '.phl', '.jsp', '.ico', '.mp4', '.jsf', '.com', '.-Qual-a-abrang%C3%AAncia-da-medida-no-ensino-superior-brasileiro', '.txt', '.442898', '.htm', '.ram', '.1524381', '.html', '.zip', '.1488134', '.srf', '.PDF', '.663367', '.pdf%20', '.pdf', '.html%20', '.xls%20', '.1562217', '.jhtm', '.gif', '.561910', '.php%20', '.action', '.387482', '.phtml', '.1539775', '.a', '.1569154', '.610418', '.TXT', '.aspx', '.3049', '.438082', '.unicamp', '.jpg', '.xls', '.439332', '.ghtml', '.546366', '.566294', '.stm', '.mp3'}\n",
      "{'.1411517', '.920576', '.rar', '.1564203', '.1524776', \".br',%20'env_2981',%20''))\", '.css', '.', '.BR', '.br', '.php', '.asp', '.back()', '.372212', '.669820', '.705711', '.br,', '.445971', '.xml', '.png', '.1484578', '.phl', '.jsp', '.ico', '.mp4', '.jsf', '.com', '.-Qual-a-abrang%C3%AAncia-da-medida-no-ensino-superior-brasileiro', '.txt', '.442898', '.ram', '.1524381', '.zip', '.1488134', '.srf', '.PDF', '.663367', '.pdf%20', '.pdf', '.xls%20', '.1562217', '.1539775', '.gif', '.561910', '.php%20', '.action', '.387482', '.TXT', '.a', '.1569154', '.610418', '.aspx', '.3049', '.438082', '.unicamp', '.jpg', '.xls', '.439332', '.546366', '.566294', '.stm', '.mp3'}\n"
     ]
    }
   ],
   "source": [
    "'aa' in ['a', 'b','c']\n",
    "from os.path import basename, splitext\n",
    "from urllib.parse import urlparse, urlunparse, ParseResult\n",
    "from general import *\n",
    "\n",
    "extensions = set()\n",
    "extensions_ = set()\n",
    "for file in file_links:\n",
    "    base = basename(file)\n",
    "    name, ext = splitext(base)\n",
    "    if((ext != '') & ('htm' not in ext) & (ext not in ['asp', 'php', 'xml'])):\n",
    "        extensions_.add(ext)\n",
    "    extensions.add(ext)\n",
    "print(extensions)\n",
    "print(extensions_)"
   ]
  }
 ],
 "metadata": {
  "kernelspec": {
   "display_name": "Python 3",
   "language": "python",
   "name": "python3"
  },
  "language_info": {
   "codemirror_mode": {
    "name": "ipython",
    "version": 3
   },
   "file_extension": ".py",
   "mimetype": "text/x-python",
   "name": "python",
   "nbconvert_exporter": "python",
   "pygments_lexer": "ipython3",
   "version": "3.7.1"
  }
 },
 "nbformat": 4,
 "nbformat_minor": 2
}
