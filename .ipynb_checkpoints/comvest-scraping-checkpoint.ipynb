{
 "cells": [
  {
   "cell_type": "code",
   "execution_count": 34,
   "metadata": {},
   "outputs": [],
   "source": [
    "import requests\n",
    "from bs4 import BeautifulSoup\n",
    "\n",
    "host = \"http://www2.comvest.unicamp.br/vestibulares-anteriores/1a-fase-2a-fase-comentadas/\"\n",
    "page = requests.get(host, timeout=5)\n",
    "\n",
    "soup = BeautifulSoup(page.content, 'html.parser') # 'lxml'\n",
    "\n",
    "# print(soup.prettify())\n",
    "\n",
    "# list(soup.children)\n",
    "# [type(item) for item in list(soup.children)]\n",
    "\n",
    "all_links = set()\n",
    "for link in soup.find_all():\n",
    "    link_string = link.get('href')\n",
    "    if(link_string != None):\n",
    "        all_links.add(link_string)\n",
    "\n",
    "#         print(link_string)\n"
   ]
  },
  {
   "cell_type": "code",
   "execution_count": 35,
   "metadata": {},
   "outputs": [],
   "source": [
    "# print(all_links)\n",
    "not_loc = set()\n",
    "for i in filter(lambda x: 'www2.comvest.unicamp.br' not in x, all_links):\n",
    "#     print(i)\n",
    "    not_loc.add(i)\n",
    "    "
   ]
  },
  {
   "cell_type": "code",
   "execution_count": 50,
   "metadata": {},
   "outputs": [
    {
     "name": "stdout",
     "output_type": "stream",
     "text": [
      "{'http://www2.comvest.unicamp.br/vestibulares-anteriores/vestibular-2001/', '/vest_anteriores/2014/download/comentadas/musica.pdf', '/vest_anteriores/2002/download/comentadas/LPortuguesa.pdf', '/vest_anteriores/2013/download/comentadas/danca.pdf', '/vest_anteriores/2012/download/comentadas/cenicas.pdf', 'http://www2.comvest.unicamp.br/vestibulares-anteriores/vestibular-2016/', '//maxcdn.bootstrapcdn.com', '//s.w.org', 'http://www2.comvest.unicamp.br/vestibulares-anteriores/vestibular-1997-06/', '/vest_anteriores/2007/download/comentadas/danca.pdf', '/vest_anteriores/2004/download/comentadas/1fase.pdf', '/vest_anteriores/2018/download/comentadas/F1_quimica.pdf', '/vest_anteriores/2014/download/comentadas/portugues.pdf', '/vest_anteriores/2008/download/comentadas/ingles.pdf', '/vest_anteriores/2017/download/comentadas/F1_matematica.pdf', '#sidebar-collapse', '/vest_anteriores/2007/download/comentadas/cenicas.pdf', 'http://www2.comvest.unicamp.br/vestibulares-anteriores/vestibular-2012/', '/vest_anteriores/2000/download/comentadas/CadernoQuestoes_fase1.pdf', '/vest_anteriores/2002/download/comentadas/Fisica.pdf', '/vest_anteriores/2007/download/comentadas/arquitetura.pdf', 'http://www2.comvest.unicamp.br/vestibulares-anteriores/vestibular-1997-01/', '/vest_anteriores/2018/download/comentadas/F1_matematica.pdf', '#', 'http://www2.comvest.unicamp.br/vestibular-2019/', '/vest_anteriores/2016/download/comentadas/F1_portugues.pdf', '/vest_anteriores/2005/download/comentadas/frances.pdf', '/vest_anteriores/2003/download/comentadas/CBiologicas.pdf', 'http://www2.comvest.unicamp.br/vestibulares-anteriores/vestibular-2002/', '/vest_anteriores/2003/download/comentadas/Quimica.pdf', '/vest_anteriores/2017/download/comentadas/F2_historia.pdf', '/vest_anteriores/2006/download/comentadas/fisica.pdf', '/vest_anteriores/2000/download/comentadas/Fisica.pdf', '/vest_anteriores/2000/download/comentadas/Matematica.pdf', '/vest_anteriores/2004/download/comentadas/fisica.pdf', '/vest_anteriores/2005/download/comentadas/ingles.pdf', '/vest_anteriores/2011/download/comentadas/portugues.pdf', 'http://www2.comvest.unicamp.br/vestibulares-anteriores/vestibular-1999/', '/vest_anteriores/2002/download/comentadas/Desempenho.pdf', '/vest_anteriores/2014/download/comentadas/matematica.pdf', '/vest_anteriores/2007/download/comentadas/artes_visuais.pdf', 'http://www2.comvest.unicamp.br/cotas/', '/vest_anteriores/2008/download/comentadas/historia.pdf', '/vest_anteriores/1999/download/comentadas/Geografia.pdf', '/vest_anteriores/2009/download/comentadas/fase1.pdf', 'http://www2.comvest.unicamp.br/informacoes-contato', 'http://www.upa.unicamp.br/', '/vest_anteriores/2013/download/comentadas/artes_visuais.pdf', '/vest_anteriores/2015/download/comentadas/matematica.pdf', '/vest_anteriores/2014/download/comentadas/danca.pdf', '/vest_anteriores/2016/download/comentadas/F2_historia.pdf', '/vest_anteriores/2017/download/comentadas/F2_matematica.pdf', '/vest_anteriores/2003/download/comentadas/musica/Percepcao_Escrita.pdf', 'http://www2.comvest.unicamp.br/wp-content/themes/comvest/style.css?ver=5.0.3', '/vest_anteriores/2013/download/comentadas/cha.pdf', '/vest_anteriores/2018/download/comentadas/F2_historia.pdf', '/vest_anteriores/2015/download/comentadas/redacao.pdf', '/vest_anteriores/2002/download/comentadas/Musica.pdf', '/vest_anteriores/2009/download/comentadas/danca.pdf', '/vest_anteriores/2017/download/comentadas/F1_fisica.pdf', '/vest_anteriores/1998/download/comentadas/CBiologicas.pdf', '/vest_anteriores/2003/download/comentadas/Cenicas.pdf', '/vest_anteriores/2008/download/comentadas/musica.pdf', '/vest_anteriores/1998/download/comentadas/LEstrangeira.pdf', 'http://www2.comvest.unicamp.br/vestibulares-anteriores/vestibular-2015/', '//fonts.googleapis.com', '/vest_anteriores/2006/download/comentadas/portugues.pdf', '/vest_anteriores/2002/download/comentadas/Danca.pdf', '/vest_anteriores/2003/download/comentadas/musica/Estrut_MPopular.pdf', '/vest_anteriores/2004/download/comentadas/ed_artistica.pdf', '/vest_anteriores/2016/download/comentadas/F2_portugues.pdf', '/vest_anteriores/2016/download/comentadas/F1_fisica.pdf', '/vest_anteriores/2017/download/comentadas/F1_portugues.pdf', '/vest_anteriores/2007/download/comentadas/musica.pdf', '/vest_anteriores/2011/download/comentadas/danca.pdf', '//maxcdn.bootstrapcdn.com/font-awesome/4.3.0/css/font-awesome.min.css?ver=5.0.3', '/vest_anteriores/2006/download/comentadas/odontologia.pdf', '/vest_anteriores/2011/download/comentadas/cha.pdf', 'http://www.linkedin.com/shareArticle?mini=true&url=http://www2.comvest.unicamp.br/vestibulares-anteriores/1a-fase-2a-fase-comentadas/', '/vest_anteriores/2003/download/comentadas/musica/Estrut_Compos_Reg_Instru.pdf', '/vest_anteriores/2013/download/comentadas/matematica.pdf', '/vest_anteriores/2000/download/comentadas/Historia.pdf', '/vest_anteriores/2018/download/comentadas/F2_redacao.pdf', '/vest_anteriores/2001/download/comentadas/CadernoQuestoes2002_fase1.pdf', '/vest_anteriores/2002/download/comentadas/Ingles.pdf', '/vest_anteriores/2000/download/comentadas/CadernoQuestoes.pdf', '/vest_anteriores/2018/download/comentadas/F1_geografia.pdf', '/vest_anteriores/2007/download/comentadas/historia.pdf', '/vest_anteriores/2018/download/comentadas/F1_fisica.pdf', 'http://www2.comvest.unicamp.br/wp-content/plugins/ultimate-posts-widget/css/upw-theme-standard.min.css?ver=5.0.3', '/vest_anteriores/2016/download/comentadas/F1_matematica.pdf', '/vest_anteriores/2015/download/comentadas/quimica.pdf', '/vest_anteriores/2003/download/comentadas/CadernoQuestoes2004_fase1.pdf', '/vest_anteriores/1998/download/comentadas/Quimica.pdf', '/vest_anteriores/2016/download/comentadas/F1_geografia.pdf', '/vest_anteriores/2010/download/comentadas/danca.pdf', 'http://www2.comvest.unicamp.br/wp-content/uploads/2018/10/cropped-comvest-1-32x32.png', '/vest_anteriores/2004/download/comentadas/matematica.pdf', '/vest_anteriores/2014/download/comentadas/artes_visuais.pdf', '/vest_anteriores/2006/download/comentadas/cenicas.pdf', 'http://www2.comvest.unicamp.br/?p=389', '/vest_anteriores/2001/download/comentadas/Quimica.pdf', 'http://www2.comvest.unicamp.br/vestibulares-anteriores/vestibular-2006/', '/vest_anteriores/2017/download/comentadas/F1_quimica.pdf', '/vest_anteriores/2011/download/comentadas/arquitetura.pdf', 'http://www2.comvest.unicamp.br/wp-content/uploads/2018/10/cropped-comvest-1-192x192.png', '/vest_anteriores/1998/download/comentadas/Historia.pdf', '/vest_anteriores/2008/download/comentadas/fisica.pdf', 'http://www2.comvest.unicamp.br/wp-includes/wlwmanifest.xml', 'http://www2.comvest.unicamp.br/vestibulares-anteriores/vestibular-2003/', '/vest_anteriores/2008/download/comentadas/artes_visuais.pdf', '/vest_anteriores/2016/download/comentadas/F1_ingles.pdf', '/vest_anteriores/2006/download/comentadas/geografia.pdf', '/vest_anteriores/2003/download/comentadas/musica/Introd_Progr_Objetivo.pdf', '/vest_anteriores/2017/download/comentadas/F2_quimica.pdf', '/vest_anteriores/2008/download/comentadas/quimica.pdf', '/vest_anteriores/2017/download/comentadas/F1_ingles.pdf', '/vest_anteriores/2001/download/comentadas/Ingles.pdf', '/vest_anteriores/2010/download/comentadas/portugues.pdf', '/vest_anteriores/2004/download/comentadas/arquitetura.pdf', 'http://www2.comvest.unicamp.br/informacoes-contato/cadastre-sua-escola/', '/vest_anteriores/2005/download/comentadas/biologia.pdf', '/vest_anteriores/2018/download/comentadas/F2_portugues.pdf', '/vest_anteriores/2015/download/comentadas/cenicas.pdf', '/vest_anteriores/2018/download/comentadas/F2_geografia.pdf', '/vest_anteriores/2001/download/comentadas/LPortuguesa.pdf', 'https://www2.comvest.unicamp.br/xmlrpc.php?rsd', '/vest_anteriores/2013/download/comentadas/cenicas.pdf', '/vest_anteriores/2018/download/comentadas/F2_fisica.pdf', '/vest_anteriores/2008/download/comentadas/biologia.pdf', '/vest_anteriores/2015/download/comentadas/arquitetura.pdf', '/vest_anteriores/2016/download/comentadas/F2_redacao.pdf', '/vest_anteriores/1999/download/comentadas/LPortuguesa.pdf', '/vest_anteriores/2010/download/comentadas/matematica.pdf', '/vest_anteriores/1998/download/comentadas/LPortuguesa.pdf', '/vest_anteriores/2009/download/comentadas/redacao.pdf', '/vest_anteriores/2009/download/comentadas/ingles.pdf', '/vest_anteriores/2010/download/comentadas/cenicas.pdf', 'http://www2.comvest.unicamp.br/wp-content/plugins/simple-share-buttons-adder/css/ssba.css?ver=5.0.3', '/vest_anteriores/2005/download/comentadas/fisica.pdf', '/vest_anteriores/1998/download/comentadas/CadernoQuestoes_fase1.pdf', '/vest_anteriores/2009/download/comentadas/fisica.pdf', 'http://www.unicamp.br', '/vest_anteriores/2006/download/comentadas/ingles.pdf', '/vest_anteriores/2004/download/comentadas/cenicas.pdf', '/vest_anteriores/2017/download/comentadas/cenicas.pdf', 'http://www2.comvest.unicamp.br/wp-json/', 'http://www2.comvest.unicamp.br/olimpiadas-cientificas-2019/', '/vest_anteriores/2003/download/comentadas/desempenho.pdf', '/vest_anteriores/2015/download/comentadas/historia.pdf', '/vest_anteriores/2004/download/comentadas/portugues.pdf', '/vest_anteriores/2011/download/comentadas/matematica.pdf', '/vest_anteriores/2008/download/comentadas/danca.pdf', '/vest_anteriores/2000/download/comentadas/Aptidao.pdf', '/vest_anteriores/2003/download/comentadas/Matematica.pdf', '/vest_anteriores/2002/download/comentadas/Odonto.pdf', 'https://maxcdn.bootstrapcdn.com/bootstrap/3.3.2/css/bootstrap.min.css?ver=5.0.3', 'http://www2.comvest.unicamp.br/vagas-remanescentes-2019/', 'https://twitter.com/VestUnicamp', '/vest_anteriores/2008/download/comentadas/geografia.pdf', '/vest_anteriores/2004/download/comentadas/historia.pdf', '/vest_anteriores/2010/download/comentadas/arquitetura.pdf', '/vest_anteriores/2014/download/comentadas/ingles.pdf', '/vest_anteriores/2015/download/comentadas/danca.pdf', '/vest_anteriores/2005/download/comentadas/portugues.pdf', 'http://twitter.com/share?url=http://www2.comvest.unicamp.br/vestibulares-anteriores/1a-fase-2a-fase-comentadas/&text=Provas%20Comentadas%20por%20Ano%20', '/vest_anteriores/2005/download/comentadas/historia.pdf', '/vest_anteriores/2011/download/comentadas/artes_visuais.pdf', 'http://www2.comvest.unicamp.br/', 'http://www2.comvest.unicamp.br/vestibulares-anteriores/', 'http://www2.comvest.unicamp.br/vestibulares-anteriores/vestibular-2011/', '/vest_anteriores/2013/download/comentadas/musica.pdf', 'http://www2.comvest.unicamp.br/vestibulares-anteriores/vestibular-2017/', '/vest_anteriores/1999/download/comentadas/LEstrangeira.pdf', '/vest_anteriores/1999/download/comentadas/Fisica.pdf', '/vest_anteriores/2018/download/comentadas/F2_quimica.pdf', '/vest_anteriores/2000/download/comentadas/LEstrangeira.pdf', '/vest_anteriores/2002/download/comentadas/Historia.pdf', '/vest_anteriores/2005/download/comentadas/musica.pdf', '/vest_anteriores/2012/download/comentadas/musica.pdf', 'http://www2.comvest.unicamp.br/wp-includes/css/dist/block-library/style.min.css?ver=5.0.3', 'http://www2.comvest.unicamp.br/vestibulares-anteriores/vestibular-2014/', 'http://www2.comvest.unicamp.br/vestibulares-anteriores/vestibular-1997-08/', 'http://www2.comvest.unicamp.br/vestibulares-anteriores/vestibular-2007/', 'http://www2.comvest.unicamp.br/wp-json/oembed/1.0/embed?url=http%3A%2F%2Fwww2.comvest.unicamp.br%2Fvestibulares-anteriores%2F1a-fase-2a-fase-comentadas%2F', '/vest_anteriores/2012/download/comentadas/ingles.pdf', '/vest_anteriores/1999/download/comentadas/CBiologicas.pdf', '/vest_anteriores/2004/download/comentadas/biologia.pdf', \"http://www2.comvest.unicamp.br/informacoes-contato/perguntas-frequentes'); ?>\", '/vest_anteriores/2012/download/comentadas/matematica.pdf', '/vest_anteriores/2016/download/comentadas/F1_biologia.pdf', '/vest_anteriores/2003/download/comentadas/Danca.pdf', '/vest_anteriores/2010/download/comentadas/biologia.pdf', '/vest_anteriores/2006/download/comentadas/historia.pdf', '/vest_anteriores/2008/download/comentadas/portugues.pdf', '/vest_anteriores/2007/download/comentadas/fisica.pdf', 'http://www2.comvest.unicamp.br/vestibulares-anteriores/vestibular-1997-05/', '/vest_anteriores/2003/download/comentadas/musica/Percepcao_Oral.pdf', '/vest_anteriores/2010/download/comentadas/geografia.pdf', '/vest_anteriores/2000/download/comentadas/LPortuguesa.pdf', '/vest_anteriores/2013/download/comentadas/redacao.pdf', '/vest_anteriores/1999/download/comentadas/Matematica.pdf', '/vest_anteriores/2015/download/comentadas/ingles.pdf', '/vest_anteriores/2006/download/comentadas/ed_artistica.pdf', '/vest_anteriores/2012/download/comentadas/cha.pdf', '/vest_anteriores/2000/download/comentadas/Desempenho.pdf', '/vest_anteriores/2007/download/comentadas/fase1.pdf', 'http://www2.comvest.unicamp.br/vestibular-indigena-2019/', 'http://www2.comvest.unicamp.br/wp-content/uploads/2018/10/cropped-comvest-1-180x180.png', '/vest_anteriores/2015/download/comentadas/fisica.pdf', '/vest_anteriores/2008/download/comentadas/matematica.pdf', '/vest_anteriores/2017/download/comentadas/F1_biologia.pdf', '/vest_anteriores/2003/download/comentadas/Odontologia.pdf', 'http://www2.comvest.unicamp.br/vestibulares-anteriores/vestibular-1997-02/', '/vest_anteriores/2014/download/comentadas/redacao.pdf', '/vest_anteriores/2005/download/comentadas/cenicas.pdf', '/vest_anteriores/1999/download/comentadas/CadernoQuestoes_fase1.pdf', '/vest_anteriores/2003/download/comentadas/musica/Composicao.pdf', '/vest_anteriores/2009/download/comentadas/cenicas.pdf', '/vest_anteriores/2009/download/comentadas/portugues.pdf', '/vest_anteriores/1999/download/comentadas/Aptidao.pdf', '/vest_anteriores/1999/download/comentadas/CadernoQuestoes.pdf', '/vest_anteriores/2017/download/comentadas/F1_geografia.pdf', '/vest_anteriores/1999/download/comentadas/Historia.pdf', '/vest_anteriores/2015/download/comentadas/geografia.pdf', '/vest_anteriores/2013/download/comentadas/arquitetura.pdf', '/vest_anteriores/2005/download/comentadas/odontologia.pdf', 'http://www2.comvest.unicamp.br/vestibulares-anteriores/vestibular-2009/', 'http://www.facebook.com/sharer.php?u=http://www2.comvest.unicamp.br/vestibulares-anteriores/1a-fase-2a-fase-comentadas/', 'http://www2.comvest.unicamp.br/formas-de-ingresso/', '/vest_anteriores/2009/download/comentadas/historia.pdf', '/vest_anteriores/2014/download/comentadas/cenicas.pdf', '/vest_anteriores/2003/download/comentadas/LPortuguesa.pdf', 'http://www2.comvest.unicamp.br/livros/', '/vest_anteriores/2001/download/comentadas/Musica.pdf', '/vest_anteriores/2006/download/comentadas/matematica.pdf', '/vest_anteriores/2010/download/comentadas/fase1.pdf', '/vest_anteriores/2017/download/comentadas/F2_biologia.pdf', 'http://www2.comvest.unicamp.br/vestibulares-anteriores/vestibular-2018/', '/vest_anteriores/1998/download/comentadas/Matematica.pdf', '/vest_anteriores/2010/download/comentadas/fisica.pdf', '/vest_anteriores/2015/download/comentadas/portugues.pdf', 'http://www2.comvest.unicamp.br/vestibulares-anteriores/vestibular-1997-10/', '/vest_anteriores/2008/download/comentadas/arquitetura.pdf', '/vest_anteriores/2010/download/comentadas/ingles.pdf', '/vest_anteriores/2012/download/comentadas/artes_visuais.pdf', 'mailto:?subject=Provas%20Comentadas%20por%20Ano&body=Envie%20um%20email%20com%20este%20link%20http://www2.comvest.unicamp.br/vestibulares-anteriores/1a-fase-2a-fase-comentadas/', '/vest_anteriores/2007/download/comentadas/odontologia.pdf', '/vest_anteriores/2012/download/comentadas/redacao.pdf', '/vest_anteriores/1999/download/comentadas/Quimica.pdf', '/vest_anteriores/2003/download/comentadas/Historia.pdf', '/vest_anteriores/2012/download/comentadas/arquitetura.pdf', 'http://www2.comvest.unicamp.br/categoria/destaques/', '/vest_anteriores/2004/download/comentadas/ingles.pdf', '/vest_anteriores/2002/download/comentadas/Ed_Artistica.pdf', '/vest_anteriores/1999/download/comentadas/Desempenho.pdf', '/vest_anteriores/2004/download/comentadas/geografia.pdf', 'http://www2.comvest.unicamp.br/inclusao-paais/', '/vest_anteriores/2014/download/comentadas/ciennatu.pdf', '/vest_anteriores/2004/download/comentadas/odontologia.pdf', '/vest_anteriores/2016/download/comentadas/F2_fisica.pdf', '/vest_anteriores/2010/download/comentadas/musica.pdf', '/vest_anteriores/2001/download/comentadas/Geografia.pdf', '/vest_anteriores/2002/download/comentadas/Cenicas.pdf', '/vest_anteriores/2002/download/comentadas/Geografia.pdf', '/vest_anteriores/2007/download/comentadas/matematica.pdf', 'http://www2.comvest.unicamp.br/vestibulares-anteriores/vestibular-1998/', '/vest_anteriores/2009/download/comentadas/biologia.pdf', '/vest_anteriores/2017/download/comentadas/F2_redacao.pdf', '/vest_anteriores/2008/download/comentadas/cenicas.pdf', '/vest_anteriores/2018/download/comentadas/F2_matematica.pdf', '/vest_anteriores/2009/download/comentadas/artes_visuais.pdf', '/vest_anteriores/2011/download/comentadas/ciennatu.pdf', '/vest_anteriores/2007/download/comentadas/quimica.pdf', '/vest_anteriores/1998/download/comentadas/Desempenho.pdf', '/vest_anteriores/1998/download/comentadas/CadernoQuestoes.pdf', '/vest_anteriores/2009/download/comentadas/matematica.pdf', '/vest_anteriores/2001/download/comentadas/Odonto.pdf', '/vest_anteriores/2000/download/comentadas/Quimica.pdf', '/vest_anteriores/2013/download/comentadas/ingles.pdf', '/vest_anteriores/2007/download/comentadas/biologia.pdf', '/vest_anteriores/2011/download/comentadas/ingles.pdf', '/vest_anteriores/2005/download/comentadas/quimica.pdf', '/vest_anteriores/2002/download/comentadas/CBiologicas.pdf', 'http://www2.comvest.unicamp.br/vestibulares-anteriores/vestibular-2008/', '/vest_anteriores/2002/download/comentadas/Arquitetura.pdf', '/vest_anteriores/2010/download/comentadas/artes_visuais.pdf', '/vest_anteriores/2010/download/comentadas/redacao.pdf', 'http://www2.comvest.unicamp.br', '/vest_anteriores/2015/download/comentadas/musica.pdf', '/vest_anteriores/2017/download/comentadas/F1_historia.pdf', '/vest_anteriores/2001/download/comentadas/Danca.pdf', '/vest_anteriores/2006/download/comentadas/biologia.pdf', '/vest_anteriores/2006/download/comentadas/arquitetura.pdf', '/vest_anteriores/2012/download/comentadas/portugues.pdf', '/vest_anteriores/2009/download/comentadas/geografia.pdf', 'http://www2.comvest.unicamp.br/vestibulares-anteriores/vestibular-2010/', '/vest_anteriores/2004/download/comentadas/musica.pdf', '/vest_anteriores/2001/download/comentadas/CBiologicas.pdf', 'http://www2.comvest.unicamp.br/wp-content/plugins/contact-form-7/includes/css/styles.css?ver=5.1.1', '/vest_anteriores/2018/download/comentadas/F1_ingles.pdf', '/vest_anteriores/2002/download/comentadas/CadernoQuestoes2003_fase1.pdf', '/vest_anteriores/2014/download/comentadas/arquitetura.pdf', '/intranet/index.html', 'https://www.instagram.com/vestunicamp', '/vest_anteriores/1998/download/comentadas/Fisica.pdf', '/vest_anteriores/2018/download/comentadas/F1_biologia.pdf', '/vest_anteriores/2017/download/comentadas/musica.pdf', 'http://www2.comvest.unicamp.br/sobre-a-comvest/', 'http://www2.comvest.unicamp.br/vestibulares-anteriores/vestibular-1997-04/', 'http://www2.comvest.unicamp.br/informacoes-contato/perguntas-frequentes/', '/vest_anteriores/2016/download/comentadas/F2_quimica.pdf', 'http://www2.comvest.unicamp.br/inclusao-paais/isencao/', '/vest_anteriores/2005/download/comentadas/geografia.pdf', '/vest_anteriores/2009/download/comentadas/arquitetura.pdf', '/vest_anteriores/2006/download/comentadas/quimica.pdf', '/vest_anteriores/2001/download/comentadas/Caderno%20de%20Questoes%202002.pdf', '/vest_anteriores/2013/download/comentadas/ciennatu.pdf', 'http://www2.comvest.unicamp.br/wp-json/oembed/1.0/embed?url=http%3A%2F%2Fwww2.comvest.unicamp.br%2Fvestibulares-anteriores%2F1a-fase-2a-fase-comentadas%2F&format=xml', '/vest_anteriores/2008/download/comentadas/fase1.pdf', '/vest_anteriores/2011/download/comentadas/cenicas.pdf', '/vest_anteriores/2016/download/comentadas/F1_historia.pdf', '/vest_anteriores/2004/download/comentadas/danca.pdf', '/vest_anteriores/2001/download/comentadas/Frances.pdf', 'http://www2.comvest.unicamp.br/vestibulares-anteriores/vestibular-1997-07/', 'http://www2.comvest.unicamp.br/vestibulares-anteriores/vestibular-2005/', '/vest_anteriores/2003/download/comentadas/Ingles.pdf', '/vest_anteriores/2018/download/comentadas/F1_historia.pdf', '/vest_anteriores/2018/download/comentadas/F1_portugues.pdf', '/vest_anteriores/2009/download/comentadas/musica.pdf', 'http://www2.comvest.unicamp.br/vestibulares-anteriores/vestibular-1997-03/', '/vest_anteriores/2017/download/comentadas/F2_geografia.pdf', '/vest_anteriores/2017/download/comentadas/visuais.pdf', '/vest_anteriores/2011/download/comentadas/redacao.pdf', '/vest_anteriores/2005/download/comentadas/danca.pdf', '/vest_anteriores/2003/download/comentadas/Ed_Artistica.pdf', '/vest_anteriores/2001/download/comentadas/Ed_Artistica.pdf', 'http://www2.comvest.unicamp.br/vestibulares-anteriores/vestibular-2004/', '/vest_anteriores/2004/download/comentadas/quimica.pdf', 'http://www2.comvest.unicamp.br/wp-content/themes/comvest/css/font-awesome.min.css?ver=5.0.3', '/vest_anteriores/2001/download/comentadas/Artes_Cenicas.pdf', 'http://www2.comvest.unicamp.br/vestibulares-anteriores/vestibular-1997-09/', '/vest_anteriores/2016/download/comentadas/F2_biologia.pdf', '/vest_anteriores/2003/download/comentadas/Arquitetura.pdf', '/vest_anteriores/2002/download/comentadas/Frances.pdf', 'http://www2.comvest.unicamp.br/categoria/noticias/', '/vest_anteriores/2004/download/comentadas/frances.pdf', 'http://www2.comvest.unicamp.br/imprensa/', '/vest_anteriores/2001/download/comentadas/Matematica.pdf', 'http://www2.comvest.unicamp.br/vestibulares-anteriores/vestibular-2000/', 'http://www2.comvest.unicamp.br/wp-content/plugins/responsive-lightbox/assets/swipebox/css/swipebox.min.css?ver=2.1.0', '/vest_anteriores/2003/download/comentadas/musica/Regencia.pdf', 'http://www2.comvest.unicamp.br/vestibulares-anteriores/vestibular-2013/', '/vest_anteriores/2007/download/comentadas/geografia.pdf', 'https://profis.prg.unicamp.br/', 'http://www2.comvest.unicamp.br/informacoes-contato/cadastro-da-imprensa/', '/vest_anteriores/2015/download/comentadas/visuais.pdf', 'http://www2.comvest.unicamp.br/wp-content/plugins/wp-pagenavi/pagenavi-css.css?ver=2.70', '/vest_anteriores/2012/download/comentadas/danca.pdf', '/vest_anteriores/2017/download/comentadas/danca.pdf', '/vest_anteriores/2016/download/comentadas/F2_geografia.pdf', '/vest_anteriores/2003/download/comentadas/Fisica.pdf', '/vest_anteriores/2001/download/comentadas/Desempenho.pdf', '/vest_anteriores/2001/download/comentadas/Historia.pdf', '/vest_anteriores/2007/download/comentadas/portugues.pdf', 'http://www.adobe.com.br/products/acrobat/readermain.html', 'https://itunes.apple.com/br/app/vestibular-unicamp-2019/id1407264955?mt=8', '/vest_anteriores/2015/download/comentadas/biologia.pdf', '/vest_anteriores/2013/download/comentadas/portugues.pdf', '/vest_anteriores/2005/download/comentadas/matematica.pdf', '/vest_anteriores/2010/download/comentadas/historia.pdf', '/vest_anteriores/2016/download/comentadas/F2_matematica.pdf', '/vest_anteriores/2017/download/comentadas/F2_portugues.pdf', '/vest_anteriores/2011/download/comentadas/musica.pdf', '/vest_anteriores/2002/download/comentadas/Quimica.pdf', '/vest_anteriores/2006/download/comentadas/1fase.pdf', 'https://play.google.com/store/apps/details?id=br.com.app.gpu1898541.gpuade160a325cd33dc202b2e5b6d613241', 'https://fonts.googleapis.com/css?family=Ubuntu%3A300%2C300i%2C400%2C400i%2C700%2C700i&ver=5.0.3', 'http://www2.comvest.unicamp.br/estatisticas-comvest/vestibulares/', '/vest_anteriores/2016/download/comentadas/F1_quimica.pdf', '/vest_anteriores/2002/download/comentadas/Matematica.pdf', '/vest_anteriores/2017/download/comentadas/F2_fisica.pdf', '/vest_anteriores/2000/download/comentadas/Geografia.pdf', '/vest_anteriores/2001/download/comentadas/Fisica.pdf', 'https://www.facebook.com/vestibular.unicamp', '/vest_anteriores/2003/download/comentadas/Geografia.pdf', '/vest_anteriores/2009/download/comentadas/quimica.pdf', 'http://www2.comvest.unicamp.br/vestibulares-anteriores/vestibular-1987/', '/vest_anteriores/2018/download/comentadas/F2_biologia.pdf', 'http://www2.comvest.unicamp.br/wp-content/themes/comvest/img/favicon.ico', '/vest_anteriores/2005/download/comentadas/1fase.pdf', '/vest_anteriores/2005/download/comentadas/ed_artistica.pdf', '/vest_anteriores/2000/download/comentadas/CBiologicas.pdf', 'http://www2.comvest.unicamp.br/enem-2019/', '/vest_anteriores/2007/download/comentadas/ingles.pdf', 'http://www2.comvest.unicamp.br/estatisticas-comvest/', '/vest_anteriores/2005/download/comentadas/arquitetura.pdf', '/vest_anteriores/1998/download/comentadas/Geografia.pdf', '/vest_anteriores/2003/download/comentadas/Frances.pdf', '/vest_anteriores/2012/download/comentadas/ciennatu.pdf', '/vest_anteriores/2010/download/comentadas/quimica.pdf', '/vest_anteriores/2006/download/comentadas/musica.pdf', '/vest_anteriores/2006/download/comentadas/danca.pdf', '/vest_anteriores/2014/download/comentadas/cha.pdf', '/vest_anteriores/2001/download/comentadas/Arquitetura.pdf'}\n"
     ]
    }
   ],
   "source": [
    "print(all_links)"
   ]
  },
  {
   "cell_type": "code",
   "execution_count": 66,
   "metadata": {},
   "outputs": [
    {
     "name": "stdout",
     "output_type": "stream",
     "text": [
      "ParseResult(scheme='http', netloc='www2.comvest.unicamp.br', path='/vestibulares-anteriores/1a-fase-2a-fase-comentadas/', params='', query='', fragment='')\n",
      "http://www2.comvest.unicamp.br\n",
      "/wp-content/themes/comvest/img\n",
      "favicon.ico.css\n",
      "False\n",
      "favicon.ico  --   .css\n"
     ]
    }
   ],
   "source": [
    "# print(not_loc)\n",
    "\n",
    "from urllib.parse import urlparse, urlunparse, ParseResult\n",
    "# for i in all_links:\n",
    "#     print(urlparse(i))\n",
    "\n",
    "o = urlparse(host)\n",
    "print(o)\n",
    "o_ = ParseResult(o.scheme, o.netloc,'','','','')\n",
    "print(urlunparse(o_))\n",
    "\n",
    "import os\n",
    "path, filename = os.path.split('/wp-content/themes/comvest/img/favicon.ico.css')\n",
    "print(path)\n",
    "print(filename)\n",
    "\n",
    "print(os.path.islink('/wp-content/themes/comvest/img/favicon.pdf'))\n",
    "filename_w_ext = os.path.basename(filename)\n",
    "name, ext = os.path.splitext(filename_w_ext)\n",
    "print(\"{}  --   {}\".format(name, ext))"
   ]
  },
  {
   "cell_type": "code",
   "execution_count": 86,
   "metadata": {},
   "outputs": [
    {
     "name": "stdout",
     "output_type": "stream",
     "text": [
      "http://www2.comvest.unicamp.br/vestibulares-anteriores/1a-fase-2a-fase-comentadas/\n",
      "http://www2.comvest.unicamp.br\n",
      "5.080306344012344\n",
      "bla\n",
      "True\n"
     ]
    }
   ],
   "source": [
    "# print(urlparse(host).path)\n",
    "\n",
    "from general import *\n",
    "print(host)\n",
    "print(extractLocationPath(host))\n",
    "from time import sleep\n",
    "from random import random\n",
    "\n",
    "a = 5 * (0.8+random())\n",
    "print(a)\n",
    "# sleep(a)\n",
    "print('bla')\n",
    "\n",
    "location = urlparse('http://www.lba.bla.com/path/some')\n",
    "result = urlparse('http://www.lba.bla.com/path/some/thing/new.thing?dfasdfk')\n",
    "print((result.netloc == '') | (location.netloc == result.netloc))"
   ]
  }
 ],
 "metadata": {
  "kernelspec": {
   "display_name": "Python 3",
   "language": "python",
   "name": "python3"
  },
  "language_info": {
   "codemirror_mode": {
    "name": "ipython",
    "version": 3
   },
   "file_extension": ".py",
   "mimetype": "text/x-python",
   "name": "python",
   "nbconvert_exporter": "python",
   "pygments_lexer": "ipython3",
   "version": "3.7.1"
  }
 },
 "nbformat": 4,
 "nbformat_minor": 2
}
