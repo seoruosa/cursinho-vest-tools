{
 "cells": [
  {
   "cell_type": "code",
   "execution_count": 2,
   "metadata": {},
   "outputs": [
    {
     "name": "stderr",
     "output_type": "stream",
     "text": [
      "PdfReadWarning: Xref table not zero-indexed. ID numbers for objects will be corrected. [pdf.py:1736]\n"
     ]
    }
   ],
   "source": [
    "# https://medium.com/@rqaiserr/how-to-convert-pdfs-into-searchable-key-words-with-python-85aab86c544f\n",
    "\n",
    "import PyPDF2 \n",
    "# import textract\n",
    "from nltk.tokenize import word_tokenize\n",
    "from nltk.corpus import stopwords\n",
    "\n",
    "#write a for-loop to open many files -- leave a comment if you'd #like to learn how\n",
    "filename = 'FASE1.pdf' \n",
    "# filename = 'F1_fisica.pdf'\n",
    "#open allows you to read the file\n",
    "pdfFileObj = open(filename,'rb')\n",
    "#The pdfReader variable is a readable object that will be parsed\n",
    "pdfReader = PyPDF2.PdfFileReader(pdfFileObj)\n",
    "#discerning the number of pages will allow us to parse through all #the pages\n",
    "num_pages = pdfReader.numPages\n",
    "count = 0\n",
    "text = \"\"\n",
    "#The while loop will read each page\n",
    "while count < num_pages:\n",
    "    pageObj = pdfReader.getPage(count)\n",
    "    count +=1\n",
    "    text += pageObj.extractText()\n",
    "#This if statement exists to check if the above library returned #words. It's done because PyPDF2 cannot read scanned files.\n",
    "if text != \"\":\n",
    "    text = text\n",
    "#If the above returns as False, we run the OCR library textract to #convert scanned/image based PDF files into text\n",
    "\n",
    "# else:\n",
    "#     text = textract.process(fileurl, method='tesseract', language='pt')\n",
    "\n",
    "    # Now we have a text variable which contains all the text derived #from our PDF file. Type print(text) to see what it contains. It #likely contains a lot of spaces, possibly junk such as '\\n' etc.\n",
    "# Now, we will clean our text variable, and return it as a list of keywords.\n",
    "\n",
    "#The word_tokenize() function will break our text phrases into #individual words\n",
    "tokens = word_tokenize(text)\n",
    "#we'll create a new list which contains punctuation we wish to clean\n",
    "punctuations = ['(',')',';',':','[',']',',']\n",
    "#We initialize the stopwords variable which is a list of words like #\"The\", \"I\", \"and\", etc. that don't hold much value as keywords\n",
    "stop_words = stopwords.words('portuguese')\n",
    "#We create a list comprehension which only returns a list of words #that are NOT IN stop_words and NOT IN punctuations.\n",
    "keywords = [word for word in tokens if not word in stop_words and not word in punctuations]\n",
    "\n"
   ]
  },
  {
   "cell_type": "code",
   "execution_count": 12,
   "metadata": {},
   "outputs": [],
   "source": [
    "# print(text)"
   ]
  },
  {
   "cell_type": "code",
   "execution_count": 1,
   "metadata": {},
   "outputs": [
    {
     "name": "stderr",
     "output_type": "stream",
     "text": [
      "PdfReadWarning: Xref table not zero-indexed. ID numbers for objects will be corrected. [pdf.py:1736]\n"
     ]
    },
    {
     "ename": "NameError",
     "evalue": "name 'pdfReader' is not defined",
     "output_type": "error",
     "traceback": [
      "\u001b[0;31m---------------------------------------------------------------------------\u001b[0m",
      "\u001b[0;31mNameError\u001b[0m                                 Traceback (most recent call last)",
      "\u001b[0;32m<ipython-input-1-b84b541f30c5>\u001b[0m in \u001b[0;36m<module>\u001b[0;34m\u001b[0m\n\u001b[1;32m      5\u001b[0m \u001b[0mpdfFileObj\u001b[0m \u001b[0;34m=\u001b[0m \u001b[0mopen\u001b[0m\u001b[0;34m(\u001b[0m\u001b[0;34m\"FASE1.pdf\"\u001b[0m\u001b[0;34m,\u001b[0m \u001b[0;34m\"rb\"\u001b[0m\u001b[0;34m)\u001b[0m\u001b[0;34m\u001b[0m\u001b[0;34m\u001b[0m\u001b[0m\n\u001b[1;32m      6\u001b[0m \u001b[0minput1\u001b[0m \u001b[0;34m=\u001b[0m \u001b[0mPyPDF2\u001b[0m\u001b[0;34m.\u001b[0m\u001b[0mPdfFileReader\u001b[0m\u001b[0;34m(\u001b[0m\u001b[0mpdfFileObj\u001b[0m\u001b[0;34m)\u001b[0m\u001b[0;34m\u001b[0m\u001b[0;34m\u001b[0m\u001b[0m\n\u001b[0;32m----> 7\u001b[0;31m \u001b[0mnum_pages\u001b[0m \u001b[0;34m=\u001b[0m \u001b[0mpdfReader\u001b[0m\u001b[0;34m.\u001b[0m\u001b[0mnumPages\u001b[0m\u001b[0;34m\u001b[0m\u001b[0;34m\u001b[0m\u001b[0m\n\u001b[0m\u001b[1;32m      8\u001b[0m \u001b[0minput1\u001b[0m\u001b[0;34m.\u001b[0m\u001b[0mgetPage\u001b[0m\u001b[0;34m(\u001b[0m\u001b[0;36m0\u001b[0m\u001b[0;34m)\u001b[0m\u001b[0;34m\u001b[0m\u001b[0;34m\u001b[0m\u001b[0m\n\u001b[1;32m      9\u001b[0m \u001b[0;34m\u001b[0m\u001b[0m\n",
      "\u001b[0;31mNameError\u001b[0m: name 'pdfReader' is not defined"
     ]
    }
   ],
   "source": [
    "import PyPDF2\n",
    "\n",
    "from PIL import Image\n",
    "\n",
    "pdfFileObj = open(\"FASE1.pdf\", \"rb\")\n",
    "input1 = PyPDF2.PdfFileReader(pdfFileObj)\n",
    "num_pages = pdfReader.numPages\n",
    "input1.getPage(0)\n",
    "\n",
    "\n",
    "# page0 = input1.getPage(0)\n",
    "# xObject = page0['/Resources']['/XObject'].getObject()\n",
    "\n",
    "# for obj in xObject:\n",
    "#     if xObject[obj]['/Subtype'] == '/Image':\n",
    "#         size = (xObject[obj]['/Width'], xObject[obj]['/Height'])\n",
    "#         data = xObject[obj].getData()\n",
    "#         if xObject[obj]['/ColorSpace'] == '/DeviceRGB':\n",
    "#             mode = \"RGB\"\n",
    "#         else:\n",
    "#             mode = \"P\"\n",
    "\n",
    "#         if xObject[obj]['/Filter'] == '/FlateDecode':\n",
    "#             img = Image.frombytes(mode, size, data)\n",
    "#             img.save(obj[1:] + \".png\")\n",
    "#         elif xObject[obj]['/Filter'] == '/DCTDecode':\n",
    "#             img = open(obj[1:] + \".jpg\", \"wb\")\n",
    "#             img.write(data)\n",
    "#             img.close()\n",
    "#         elif xObject[obj]['/Filter'] == '/JPXDecode':\n",
    "#             img = open(obj[1:] + \".jp2\", \"wb\")\n",
    "#             img.write(data)\n",
    "#             img.close()"
   ]
  },
  {
   "cell_type": "code",
   "execution_count": 10,
   "metadata": {},
   "outputs": [
    {
     "name": "stdout",
     "output_type": "stream",
     "text": [
      "[IndirectObject(373, 0), IndirectObject(374, 0), IndirectObject(375, 0), IndirectObject(376, 0), IndirectObject(377, 0), IndirectObject(378, 0), IndirectObject(379, 0), IndirectObject(383, 0)]\n",
      "IndirectObject(373, 0)\n"
     ]
    }
   ],
   "source": [
    "# importing required modules \n",
    "import PyPDF2 \n",
    "\n",
    "# creating a pdf file object \n",
    "pdfFileObj = open('F1_fisica.pdf', 'rb') \n",
    "\n",
    "# creating a pdf reader object \n",
    "pdfReader = PyPDF2.PdfFileReader(pdfFileObj) \n",
    "\n",
    "# printing number of pages in pdf file \n",
    "# print(pdfReader.numPages) \n",
    "\n",
    "# creating a page object \n",
    "pageObj = pdfReader.getPage(2) \n",
    "\n",
    "# extracting text from page \n",
    "# print(pageObj.extractText())\n",
    "print(pageObj.getContents())\n",
    "print(pageObj.getContents()[0])\n",
    "# closing the pdf file object \n",
    "pdfFileObj.close() \n"
   ]
  },
  {
   "cell_type": "code",
   "execution_count": 4,
   "metadata": {},
   "outputs": [
    {
     "data": {
      "text/plain": [
       "'1ª Fase\\n\\ne (cid:129) Físic\\n\\nca        \\n\\n           \\n\\n           \\n\\n          \\n\\n          \\n\\n     \\n\\n         \\n \\n\\n \\n\\no bastante a\\no mais próxi\\nmais conceit\\n\\nmpla, que ex\\nmo possível d\\nual, deixando\\n\\nxige boa inter\\nda vida cotid\\no em segund\\n\\nrpretação dos\\ndiana das pes\\no plano cálcu\\n\\ns enunciados\\nsoas comuns\\nulos complica\\n\\n. As questões\\ns. A prova ab\\nados.  \\n\\ns procuraram\\nm \\nbordou vários\\ns \\n\\nveículos  voa\\nplicações é r\\nao  local  do  s\\nância. Consid\\nsua velocidad\\n\\nadores  não \\neduzir o tem\\nocorro,  para \\ndere um caso \\nde média é de\\n\\ntripulados,  c\\nmpo da presta\\nque  qualque\\nem que o dr\\ne aproximada\\n\\ncontrolados \\nação de prim\\ner  pessoa  ad\\nrone ambulân\\namente \\n\\nremotamente\\neiros socorro\\ndministre  os \\nncia se desloc\\n\\ne  e  guiados \\nos, levando p\\nprimeiros  cui\\ncou 9 km em \\n\\npor  GPS.  U\\nequenos equ\\nidados  até  a\\n 5 minutos. N\\n\\nUma  de  suas\\ns \\nuipamentos e\\ne \\n  chegada  de\\ne \\nNesse caso, o\\no \\n\\nção \\numa avaliaçã\\num contexto \\nonto de vista \\n\\no 1 \\n\\n \\n\\nIntroduç\\nTrata-se de u\\napresentar u\\ntemas do po\\n \\n \\nQuestão\\nDrones  são \\npotenciais a\\ninstruções  a\\numa ambulâ\\nmódulo de s\\n \\na)  1,4 m/s.\\n \\nb)  30 m/s. \\n \\nc)  45 m/s. \\n \\nd)  140 m/s\\ns. \\n \\n \\nObjetivo\\nEssa questão\\ndo candidat\\nSão numero\\npróprio enun\\n \\n \\nAlternat\\n\\nv =\\n\\n9km\\n5min\\n\\no da Que\\no aborda o c\\no sobre cinem\\nosas as situaç\\nnciado, avalia\\n\\nestão \\nconceito de m\\nmática de um\\nões da vida c\\nar velocidade\\n\\nmódulo de ve\\nm ponto mate\\ncotidiana nas\\n e tempo de \\n\\nelocidade mé\\nerial. \\ns quais esse t\\npercurso de \\n\\nédia. Seu obje\\n\\netivo é avalia\\n\\nar o conhecim\\n\\nmento básico\\no \\n\\ntema pode se\\nmeios de tra\\n\\ner aplicado. A\\nnsporte é um\\n\\nAlém do caso\\nm bom exemp\\n\\no indicado no\\no \\nplo. \\n\\ntiva Corr\\n9000m\\n5 × 60s\\n\\n= 30\\n\\n=\\n\\nreta: b \\n\\n0m s  \\n\\n \\n \\nDesemp\\n\\npenho do\\n\\nos candid\\n\\ndatos \\n\\n \\n \\n\\nProvas Com\\n\\nentadas (cid:129) Mú\\n\\núltipla Escolh\\n\\na (cid:129) Q (cid:129) 1ª Fa\\n\\nase \\n\\n \\n\\n\\x0c'"
      ]
     },
     "execution_count": 4,
     "metadata": {},
     "output_type": "execute_result"
    }
   ],
   "source": [
    "from io import StringIO\n",
    "from pdfminer.pdfinterp import PDFResourceManager, PDFPageInterpreter\n",
    "from pdfminer.converter import TextConverter\n",
    "from pdfminer.layout import LAParams\n",
    "from pdfminer.pdfpage import PDFPage\n",
    " \n",
    "def convert(fname, pages=None):\n",
    "    if not pages:\n",
    "        pagenums = set()\n",
    "    else:\n",
    "        pagenums = set(pages)\n",
    " \n",
    "    output = StringIO()\n",
    "    manager = PDFResourceManager()\n",
    "    converter = TextConverter(manager, output, laparams=LAParams())\n",
    "    interpreter = PDFPageInterpreter(manager, converter)\n",
    " \n",
    "    infile = open(fname, 'rb')\n",
    "    for page in PDFPage.get_pages(infile, pagenums):\n",
    "        interpreter.process_page(page)\n",
    "    infile.close()\n",
    "    converter.close()\n",
    "    text = output.getvalue()\n",
    "    output.close\n",
    "    return text\n",
    "\n",
    "convert('F1_fisica.pdf', pages=[2])"
   ]
  }
 ],
 "metadata": {
  "kernelspec": {
   "display_name": "Python 3",
   "language": "python",
   "name": "python3"
  },
  "language_info": {
   "codemirror_mode": {
    "name": "ipython",
    "version": 3
   },
   "file_extension": ".py",
   "mimetype": "text/x-python",
   "name": "python",
   "nbconvert_exporter": "python",
   "pygments_lexer": "ipython3",
   "version": "3.7.1"
  }
 },
 "nbformat": 4,
 "nbformat_minor": 2
}
